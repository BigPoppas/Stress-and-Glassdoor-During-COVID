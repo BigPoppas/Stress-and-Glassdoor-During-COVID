{
 "cells": [
  {
   "cell_type": "code",
   "execution_count": 18,
   "metadata": {},
   "outputs": [],
   "source": [
    "import os\n",
    "import pandas as pd\n",
    "\n",
    "from sklearn.preprocessing import StandardScaler"
   ]
  },
  {
   "cell_type": "code",
   "execution_count": 19,
   "metadata": {},
   "outputs": [],
   "source": [
    "# Cut-off points of COVID-19\n",
    "before_date = \"2020-01-30\"\n",
    "after_date = \"2021-08-23\""
   ]
  },
  {
   "cell_type": "code",
   "execution_count": 20,
   "metadata": {},
   "outputs": [],
   "source": [
    "# Specify the path to the folder containing the data (relative)\n",
    "path = os.path.join(\"..\", \"data\")\n",
    "\n",
    "# File containing the stress entities\n",
    "txt_fpath = os.path.join(path, \"extracted\", \"stress_entities.txt\")"
   ]
  },
  {
   "cell_type": "code",
   "execution_count": 21,
   "metadata": {},
   "outputs": [],
   "source": [
    "# Load the TXT file into a Python List object\n",
    "stress_entities = []\n",
    "\n",
    "with open(txt_fpath, \"r\") as file:\n",
    "    text = file.read()\n",
    "\n",
    "    text = text.replace(\"'\", \"\")\n",
    "    text = text.replace(\"[\", \"\").replace(\"]\", \"\")\n",
    "    \n",
    "    stress_entities = text.split(\",\")"
   ]
  },
  {
   "cell_type": "code",
   "execution_count": 22,
   "metadata": {},
   "outputs": [],
   "source": [
    "# Reading reviews\n",
    "fpath = os.path.join(path, \"new_reviews.csv\")\n",
    "reviews = pd.read_csv(fpath, low_memory=False)"
   ]
  },
  {
   "cell_type": "code",
   "execution_count": 23,
   "metadata": {},
   "outputs": [
    {
     "data": {
      "text/html": [
       "<div>\n",
       "<style scoped>\n",
       "    .dataframe tbody tr th:only-of-type {\n",
       "        vertical-align: middle;\n",
       "    }\n",
       "\n",
       "    .dataframe tbody tr th {\n",
       "        vertical-align: top;\n",
       "    }\n",
       "\n",
       "    .dataframe thead th {\n",
       "        text-align: right;\n",
       "    }\n",
       "</style>\n",
       "<table border=\"1\" class=\"dataframe\">\n",
       "  <thead>\n",
       "    <tr style=\"text-align: right;\">\n",
       "      <th></th>\n",
       "      <th>has_stress</th>\n",
       "      <th>summary</th>\n",
       "    </tr>\n",
       "  </thead>\n",
       "  <tbody>\n",
       "    <tr>\n",
       "      <th>3481596</th>\n",
       "      <td>1</td>\n",
       "      <td>Good environment makes one to work stress free</td>\n",
       "    </tr>\n",
       "    <tr>\n",
       "      <th>1227925</th>\n",
       "      <td>1</td>\n",
       "      <td>stressful</td>\n",
       "    </tr>\n",
       "    <tr>\n",
       "      <th>6799351</th>\n",
       "      <td>1</td>\n",
       "      <td>Young aggressive sales force, long hours &amp; hig...</td>\n",
       "    </tr>\n",
       "    <tr>\n",
       "      <th>4691638</th>\n",
       "      <td>1</td>\n",
       "      <td>Stressful, but Great for a First Job</td>\n",
       "    </tr>\n",
       "    <tr>\n",
       "      <th>6134444</th>\n",
       "      <td>1</td>\n",
       "      <td>Flexible Hours with seasonal heavy workload</td>\n",
       "    </tr>\n",
       "  </tbody>\n",
       "</table>\n",
       "</div>"
      ],
      "text/plain": [
       "         has_stress                                            summary\n",
       "3481596           1     Good environment makes one to work stress free\n",
       "1227925           1                                          stressful\n",
       "6799351           1  Young aggressive sales force, long hours & hig...\n",
       "4691638           1               Stressful, but Great for a First Job\n",
       "6134444           1        Flexible Hours with seasonal heavy workload"
      ]
     },
     "execution_count": 23,
     "metadata": {},
     "output_type": "execute_result"
    }
   ],
   "source": [
    "# Extract the target variable, y\n",
    "# 1 if review includes stress mention otherwise 0\n",
    "mask = reviews[\"summary\"].str.contains(\"|\".join(stress_entities), case=False)\n",
    "reviews[\"has_stress\"] = mask\n",
    "\n",
    "reviews['has_stress'] = reviews['has_stress'].astype(int)\n",
    "reviews[reviews[\"has_stress\"] == 1][[\"has_stress\", \"summary\"]].sample(5)"
   ]
  },
  {
   "cell_type": "code",
   "execution_count": 24,
   "metadata": {},
   "outputs": [],
   "source": [
    "reviews[\"review_date_time\"] = pd.to_datetime(reviews[\"review_date_time\"])\n",
    "reviews[\"year\"] = reviews[\"review_date_time\"].dt.year"
   ]
  },
  {
   "cell_type": "code",
   "execution_count": 25,
   "metadata": {},
   "outputs": [],
   "source": [
    "# Create dummy variables for the cut-off points\n",
    "reviews[\"DURING_COVID\"] = ((reviews[\"review_date_time\"] >= before_date) & (reviews[\"review_date_time\"] <= after_date)).astype(int)\n",
    "reviews[\"POST_COVID\"] = (reviews[\"review_date_time\"] > after_date).astype(int)"
   ]
  },
  {
   "cell_type": "code",
   "execution_count": 26,
   "metadata": {},
   "outputs": [],
   "source": [
    "# Define the 6-month intervals\n",
    "six_month_intervals = pd.date_range(start=before_date, end=after_date, freq='6M')\n",
    "\n",
    "for i in range(len(six_month_intervals) - 1):\n",
    "    start_period = six_month_intervals[i]\n",
    "    end_period = six_month_intervals[i + 1]\n",
    "    reviews[f\"during_covid_{i+1}_6_months\"] = ((reviews[\"review_date_time\"] > start_period) & \n",
    "                                               (reviews[\"review_date_time\"] <= end_period)).astype(int)"
   ]
  },
  {
   "cell_type": "code",
   "execution_count": 31,
   "metadata": {},
   "outputs": [],
   "source": [
    "# One hot encoding\n",
    "reviews = pd.get_dummies(reviews, columns=[\"employment_status\"], drop_first=True)"
   ]
  },
  {
   "cell_type": "code",
   "execution_count": 32,
   "metadata": {},
   "outputs": [],
   "source": [
    "# Extract year\n",
    "reviews[\"review_date_time\"] = pd.to_datetime(reviews[\"review_date_time\"])\n",
    "reviews[\"year\"] = reviews[\"review_date_time\"].dt.year"
   ]
  },
  {
   "cell_type": "code",
   "execution_count": 33,
   "metadata": {},
   "outputs": [
    {
     "data": {
      "text/plain": [
       "Index(['review_date_time', 'rating_overall', 'rating_ceo',\n",
       "       'rating_business_outlook', 'rating_work_life_balance',\n",
       "       'rating_culture_and_values', 'rating_diversity_and_inclusion',\n",
       "       'rating_senior_leadership', 'rating_recommend_to_friend',\n",
       "       'rating_career_opportunities', 'rating_compensation_and_benefits',\n",
       "       'is_current_job', 'length_of_employment', 'job_title', 'location',\n",
       "       'pros', 'cons', 'summary', 'count_helpful', 'company_id', 'org_uuid',\n",
       "       'amount_of_funding_rounds_until_now', 'total_funding_until_now',\n",
       "       'date_founded_glassdoor', 'date_founded_crunchbase', 'has_stress',\n",
       "       'year', 'DURING_COVID', 'POST_COVID', 'during_covid_1_6_months',\n",
       "       'during_covid_2_6_months', 'during_covid_3_6_months',\n",
       "       'employment_status_FREELANCE', 'employment_status_INTERN',\n",
       "       'employment_status_PART_TIME', 'employment_status_REGULAR',\n",
       "       'employment_status_RESERVE', 'employment_status_SELF_EMPLOY',\n",
       "       'employment_status_TEMPORARY', 'employment_status_UNKNOWN'],\n",
       "      dtype='object')"
      ]
     },
     "execution_count": 33,
     "metadata": {},
     "output_type": "execute_result"
    }
   ],
   "source": [
    "reviews.columns"
   ]
  },
  {
   "cell_type": "code",
   "execution_count": 34,
   "metadata": {},
   "outputs": [],
   "source": [
    "labels = [\"job_title\", \"location\", \"pros\", \"cons\", \"summary\", \"org_uuid\", \"date_founded_glassdoor\", \"date_founded_crunchbase\"]\n",
    "reviews.drop(labels=labels, axis=1, inplace=True)"
   ]
  },
  {
   "cell_type": "code",
   "execution_count": 35,
   "metadata": {},
   "outputs": [],
   "source": [
    "labels = [\"rating_ceo\", \"rating_business_outlook\", \"rating_culture_and_values\", \"rating_diversity_and_inclusion\", \"rating_senior_leadership\", \"rating_career_opportunities\", \"rating_compensation_and_benefits\", \"rating_recommend_to_friend\"]\n",
    "reviews.drop(labels=labels, axis=1, inplace=True)"
   ]
  },
  {
   "cell_type": "code",
   "execution_count": 36,
   "metadata": {},
   "outputs": [
    {
     "data": {
      "text/plain": [
       "Index(['review_date_time', 'rating_overall', 'rating_work_life_balance',\n",
       "       'is_current_job', 'length_of_employment', 'count_helpful', 'company_id',\n",
       "       'amount_of_funding_rounds_until_now', 'total_funding_until_now',\n",
       "       'has_stress', 'year', 'DURING_COVID', 'POST_COVID',\n",
       "       'during_covid_1_6_months', 'during_covid_2_6_months',\n",
       "       'during_covid_3_6_months', 'employment_status_FREELANCE',\n",
       "       'employment_status_INTERN', 'employment_status_PART_TIME',\n",
       "       'employment_status_REGULAR', 'employment_status_RESERVE',\n",
       "       'employment_status_SELF_EMPLOY', 'employment_status_TEMPORARY',\n",
       "       'employment_status_UNKNOWN'],\n",
       "      dtype='object')"
      ]
     },
     "execution_count": 36,
     "metadata": {},
     "output_type": "execute_result"
    }
   ],
   "source": [
    "reviews.columns"
   ]
  },
  {
   "cell_type": "code",
   "execution_count": 37,
   "metadata": {},
   "outputs": [],
   "source": [
    "# Scaling the data\n",
    "scaler = StandardScaler()\n",
    "\n",
    "# List of columns to scale\n",
    "cols_to_scale = [\"rating_overall\", \"rating_work_life_balance\", \"length_of_employment\",\n",
    "                 \"count_helpful\", \"amount_of_funding_rounds_until_now\", \n",
    "                 \"total_funding_until_now\"]\n",
    "\n",
    "# Scale selected columns\n",
    "reviews[cols_to_scale] = scaler.fit_transform(reviews[cols_to_scale])\n"
   ]
  },
  {
   "cell_type": "code",
   "execution_count": 38,
   "metadata": {},
   "outputs": [],
   "source": [
    "reviews.to_csv(\"../data/stata_v1.csv\", index=False)"
   ]
  }
 ],
 "metadata": {
  "kernelspec": {
   "display_name": "research_project",
   "language": "python",
   "name": "python3"
  },
  "language_info": {
   "codemirror_mode": {
    "name": "ipython",
    "version": 3
   },
   "file_extension": ".py",
   "mimetype": "text/x-python",
   "name": "python",
   "nbconvert_exporter": "python",
   "pygments_lexer": "ipython3",
   "version": "3.11.4"
  }
 },
 "nbformat": 4,
 "nbformat_minor": 2
}
