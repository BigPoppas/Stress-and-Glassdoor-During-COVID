{
 "cells": [
  {
   "cell_type": "code",
   "execution_count": 2,
   "metadata": {},
   "outputs": [],
   "source": [
    "import os\n",
    "import re\n",
    "\n",
    "import numpy as np\n",
    "import pandas as pd\n",
    "\n",
    "import seaborn as sns\n",
    "import matplotlib.pyplot as plt"
   ]
  },
  {
   "cell_type": "code",
   "execution_count": 3,
   "metadata": {},
   "outputs": [],
   "source": [
    "# Specify the path to the folder containing the data (relative)\n",
    "path = os.path.join(\"..\", \"data\")\n",
    "\n",
    "# Reading reviews\n",
    "# fpath = os.path.join(path, \"reviews.csv\")\n",
    "# reviews = pd.read_csv(fpath)\n",
    "\n",
    "# Reading stress\n",
    "fpath = os.path.join(path, \"extracted\", \"stress_per_company.csv\")\n",
    "stress = pd.read_csv(fpath)\n",
    "\n",
    "# Reading crunchbase data\n",
    "fpath = os.path.join(path, \"crawler\", \"all_company_data.csv\")\n",
    "companies = pd.read_csv(fpath)\n",
    "\n",
    "# Reading coords\n",
    "col_names = [\"location\", \"lat\", \"lon\", \"count\"]\n",
    "\n",
    "fpath = os.path.join(path, \"extracted\", \"locations_coordinates.csv\")\n",
    "coords = pd.read_csv(fpath, header=None, names=col_names)"
   ]
  },
  {
   "cell_type": "code",
   "execution_count": 4,
   "metadata": {},
   "outputs": [],
   "source": [
    "# Define quadrant names\n",
    "quadrants = {\n",
    "    \"Q1\": \"Positive Stress\",  # Top-right quadrant\n",
    "    \"Q2\": \"Negative Stress\",  # Top-left quadrant\n",
    "    \"Q3\": \"Passive\",       # Bottom-left quadrant\n",
    "    \"Q4\": \"Low Stress\"      # Bottom-right quadrant\n",
    "}"
   ]
  },
  {
   "cell_type": "code",
   "execution_count": 5,
   "metadata": {},
   "outputs": [
    {
     "data": {
      "text/html": [
       "<div>\n",
       "<style scoped>\n",
       "    .dataframe tbody tr th:only-of-type {\n",
       "        vertical-align: middle;\n",
       "    }\n",
       "\n",
       "    .dataframe tbody tr th {\n",
       "        vertical-align: top;\n",
       "    }\n",
       "\n",
       "    .dataframe thead th {\n",
       "        text-align: right;\n",
       "    }\n",
       "</style>\n",
       "<table border=\"1\" class=\"dataframe\">\n",
       "  <thead>\n",
       "    <tr style=\"text-align: right;\">\n",
       "      <th></th>\n",
       "      <th>0</th>\n",
       "      <th>1</th>\n",
       "      <th>2</th>\n",
       "      <th>3</th>\n",
       "      <th>4</th>\n",
       "    </tr>\n",
       "  </thead>\n",
       "  <tbody>\n",
       "    <tr>\n",
       "      <th>company_name</th>\n",
       "      <td>IHG Hotels and Resorts</td>\n",
       "      <td>FCA Fiat Chrysler Automobiles</td>\n",
       "      <td>Penn State</td>\n",
       "      <td>NetApp</td>\n",
       "      <td>Mercer</td>\n",
       "    </tr>\n",
       "    <tr>\n",
       "      <th>company_id</th>\n",
       "      <td>4232</td>\n",
       "      <td>149</td>\n",
       "      <td>2931</td>\n",
       "      <td>5406</td>\n",
       "      <td>35818</td>\n",
       "    </tr>\n",
       "    <tr>\n",
       "      <th>average_rating_before</th>\n",
       "      <td>3.735821</td>\n",
       "      <td>3.321379</td>\n",
       "      <td>4.064619</td>\n",
       "      <td>3.598404</td>\n",
       "      <td>3.218702</td>\n",
       "    </tr>\n",
       "    <tr>\n",
       "      <th>zrating_before</th>\n",
       "      <td>0.429427</td>\n",
       "      <td>-0.436999</td>\n",
       "      <td>1.116808</td>\n",
       "      <td>0.142146</td>\n",
       "      <td>-0.651655</td>\n",
       "    </tr>\n",
       "    <tr>\n",
       "      <th>stress_before</th>\n",
       "      <td>0.003483</td>\n",
       "      <td>0.006897</td>\n",
       "      <td>0.002648</td>\n",
       "      <td>0.006383</td>\n",
       "      <td>0.005344</td>\n",
       "    </tr>\n",
       "    <tr>\n",
       "      <th>zstress_before</th>\n",
       "      <td>-0.735723</td>\n",
       "      <td>-0.394245</td>\n",
       "      <td>-0.819171</td>\n",
       "      <td>-0.445615</td>\n",
       "      <td>-0.549586</td>\n",
       "    </tr>\n",
       "    <tr>\n",
       "      <th>association_before</th>\n",
       "      <td>0.250651</td>\n",
       "      <td>0.184328</td>\n",
       "      <td>0.420452</td>\n",
       "      <td>0.129273</td>\n",
       "      <td>0.264219</td>\n",
       "    </tr>\n",
       "    <tr>\n",
       "      <th>quadrant_before</th>\n",
       "      <td>Q4</td>\n",
       "      <td>Q3</td>\n",
       "      <td>Q4</td>\n",
       "      <td>Q4</td>\n",
       "      <td>Q3</td>\n",
       "    </tr>\n",
       "    <tr>\n",
       "      <th>average_rating_during</th>\n",
       "      <td>3.951111</td>\n",
       "      <td>3.539811</td>\n",
       "      <td>NaN</td>\n",
       "      <td>4.050328</td>\n",
       "      <td>3.723658</td>\n",
       "    </tr>\n",
       "    <tr>\n",
       "      <th>zrating_during</th>\n",
       "      <td>0.391669</td>\n",
       "      <td>-0.61607</td>\n",
       "      <td>NaN</td>\n",
       "      <td>0.634765</td>\n",
       "      <td>-0.165621</td>\n",
       "    </tr>\n",
       "    <tr>\n",
       "      <th>stress_during</th>\n",
       "      <td>0.004444</td>\n",
       "      <td>0.005398</td>\n",
       "      <td>NaN</td>\n",
       "      <td>0.002188</td>\n",
       "      <td>0.002982</td>\n",
       "    </tr>\n",
       "    <tr>\n",
       "      <th>zstress_during</th>\n",
       "      <td>-0.684952</td>\n",
       "      <td>-0.620404</td>\n",
       "      <td>NaN</td>\n",
       "      <td>-0.837664</td>\n",
       "      <td>-0.783928</td>\n",
       "    </tr>\n",
       "    <tr>\n",
       "      <th>association_during</th>\n",
       "      <td>0.231553</td>\n",
       "      <td>0.277996</td>\n",
       "      <td>NaN</td>\n",
       "      <td>0.320571</td>\n",
       "      <td>0.215456</td>\n",
       "    </tr>\n",
       "    <tr>\n",
       "      <th>quadrant_during</th>\n",
       "      <td>Q4</td>\n",
       "      <td>Q3</td>\n",
       "      <td>NaN</td>\n",
       "      <td>Q4</td>\n",
       "      <td>Q3</td>\n",
       "    </tr>\n",
       "    <tr>\n",
       "      <th>average_rating_after</th>\n",
       "      <td>3.928497</td>\n",
       "      <td>3.412955</td>\n",
       "      <td>4.155649</td>\n",
       "      <td>4.203285</td>\n",
       "      <td>3.791639</td>\n",
       "    </tr>\n",
       "    <tr>\n",
       "      <th>zrating_after</th>\n",
       "      <td>0.371483</td>\n",
       "      <td>-1.216195</td>\n",
       "      <td>1.071024</td>\n",
       "      <td>1.217728</td>\n",
       "      <td>-0.049992</td>\n",
       "    </tr>\n",
       "    <tr>\n",
       "      <th>stress_after</th>\n",
       "      <td>0.001036</td>\n",
       "      <td>0.006073</td>\n",
       "      <td>0.003347</td>\n",
       "      <td>0.004107</td>\n",
       "      <td>0.005394</td>\n",
       "    </tr>\n",
       "    <tr>\n",
       "      <th>zstress_after</th>\n",
       "      <td>-0.92688</td>\n",
       "      <td>-0.485222</td>\n",
       "      <td>-0.724228</td>\n",
       "      <td>-0.657628</td>\n",
       "      <td>-0.544711</td>\n",
       "    </tr>\n",
       "    <tr>\n",
       "      <th>association_after</th>\n",
       "      <td>0.281615</td>\n",
       "      <td>0.369123</td>\n",
       "      <td>0.387978</td>\n",
       "      <td>0.403272</td>\n",
       "      <td>0.142616</td>\n",
       "    </tr>\n",
       "    <tr>\n",
       "      <th>quadrant_after</th>\n",
       "      <td>Q4</td>\n",
       "      <td>Q3</td>\n",
       "      <td>Q4</td>\n",
       "      <td>Q4</td>\n",
       "      <td>Q3</td>\n",
       "    </tr>\n",
       "  </tbody>\n",
       "</table>\n",
       "</div>"
      ],
      "text/plain": [
       "                                            0                              1  \\\n",
       "company_name           IHG Hotels and Resorts  FCA Fiat Chrysler Automobiles   \n",
       "company_id                               4232                            149   \n",
       "average_rating_before                3.735821                       3.321379   \n",
       "zrating_before                       0.429427                      -0.436999   \n",
       "stress_before                        0.003483                       0.006897   \n",
       "zstress_before                      -0.735723                      -0.394245   \n",
       "association_before                   0.250651                       0.184328   \n",
       "quadrant_before                            Q4                             Q3   \n",
       "average_rating_during                3.951111                       3.539811   \n",
       "zrating_during                       0.391669                       -0.61607   \n",
       "stress_during                        0.004444                       0.005398   \n",
       "zstress_during                      -0.684952                      -0.620404   \n",
       "association_during                   0.231553                       0.277996   \n",
       "quadrant_during                            Q4                             Q3   \n",
       "average_rating_after                 3.928497                       3.412955   \n",
       "zrating_after                        0.371483                      -1.216195   \n",
       "stress_after                         0.001036                       0.006073   \n",
       "zstress_after                        -0.92688                      -0.485222   \n",
       "association_after                    0.281615                       0.369123   \n",
       "quadrant_after                             Q4                             Q3   \n",
       "\n",
       "                                2         3         4  \n",
       "company_name           Penn State    NetApp    Mercer  \n",
       "company_id                   2931      5406     35818  \n",
       "average_rating_before    4.064619  3.598404  3.218702  \n",
       "zrating_before           1.116808  0.142146 -0.651655  \n",
       "stress_before            0.002648  0.006383  0.005344  \n",
       "zstress_before          -0.819171 -0.445615 -0.549586  \n",
       "association_before       0.420452  0.129273  0.264219  \n",
       "quadrant_before                Q4        Q4        Q3  \n",
       "average_rating_during         NaN  4.050328  3.723658  \n",
       "zrating_during                NaN  0.634765 -0.165621  \n",
       "stress_during                 NaN  0.002188  0.002982  \n",
       "zstress_during                NaN -0.837664 -0.783928  \n",
       "association_during            NaN  0.320571  0.215456  \n",
       "quadrant_during               NaN        Q4        Q3  \n",
       "average_rating_after     4.155649  4.203285  3.791639  \n",
       "zrating_after            1.071024  1.217728 -0.049992  \n",
       "stress_after             0.003347  0.004107  0.005394  \n",
       "zstress_after           -0.724228 -0.657628 -0.544711  \n",
       "association_after        0.387978  0.403272  0.142616  \n",
       "quadrant_after                 Q4        Q4        Q3  "
      ]
     },
     "execution_count": 5,
     "metadata": {},
     "output_type": "execute_result"
    }
   ],
   "source": [
    "stress.head().T"
   ]
  },
  {
   "cell_type": "code",
   "execution_count": 6,
   "metadata": {},
   "outputs": [],
   "source": [
    "temp = stress.dropna()"
   ]
  },
  {
   "cell_type": "markdown",
   "metadata": {},
   "source": [
    "### 1. Stability Analysis"
   ]
  },
  {
   "cell_type": "code",
   "execution_count": 7,
   "metadata": {},
   "outputs": [],
   "source": [
    "def analyze_stability(df):\n",
    "    # Stability from 'before' to 'during'\n",
    "    stability_before_to_during = df[df[\"quadrant_before\"] == df[\"quadrant_during\"]].shape[0]\n",
    "    print(f\"{stability_before_to_during} companies remained in the same quadrant from BEFORE and DURING the pandemic.\")\n",
    "\n",
    "    # Stability from 'during' to 'after'\n",
    "    stability_during_to_after = df[df[\"quadrant_during\"] == df[\"quadrant_after\"]].shape[0]\n",
    "    print(f\"{stability_during_to_after} companies remained in the same quadrant from DURING and AFTER the pandemic.\")\n",
    "\n",
    "    # Stability throughout\n",
    "    stability_throughout = df[(df[\"quadrant_before\"] == df[\"quadrant_during\"]) & (df[\"quadrant_during\"] == df[\"quadrant_after\"])].shape[0]\n",
    "    print(f\"{stability_throughout} companies remained in the same quadrant throughout the pandemic.\")"
   ]
  },
  {
   "cell_type": "code",
   "execution_count": 8,
   "metadata": {},
   "outputs": [],
   "source": [
    "def analyze_stability_per_quadrant(df):\n",
    "    for i in range(1, 5):  # Assuming quadrants are labeled as Q1, Q2, Q3, Q4\n",
    "        label = f\"Q{i}\"\n",
    "        # Stability from 'before' to 'during'\n",
    "        stability_before_to_during = df[\n",
    "            (df[\"quadrant_before\"] == label) &\n",
    "            (df[\"quadrant_during\"] == label)\n",
    "        ].shape[0]\n",
    "        print(f\"In quadrant '{quadrants[label]}', {stability_before_to_during} companies remained stable from BEFORE and DURING the pandemic.\")\n",
    "        \n",
    "        # Stability from 'during' to 'after'\n",
    "        stability_during_to_after = df[\n",
    "            (df[\"quadrant_during\"] == label) &\n",
    "            (df[\"quadrant_after\"] == label)\n",
    "        ].shape[0]\n",
    "        print(f\"In quadrant '{quadrants[label]}', {stability_during_to_after} companies remained stable from DURING and AFTER the pandemic.\")\n",
    "        \n",
    "        # Stability throughout\n",
    "        stability_throughout = df[\n",
    "            (df[\"quadrant_before\"] == label) &\n",
    "            (df[\"quadrant_during\"] == label) &\n",
    "            (df[\"quadrant_after\"] == label)\n",
    "        ].shape[0]\n",
    "        print(f\"In quadrant '{quadrants[label]}', {stability_throughout} companies remained stable throughout the pandemic.\\n\")"
   ]
  },
  {
   "cell_type": "code",
   "execution_count": 9,
   "metadata": {},
   "outputs": [
    {
     "name": "stdout",
     "output_type": "stream",
     "text": [
      "1135 companies remained in the same quadrant from BEFORE and DURING the pandemic.\n",
      "1226 companies remained in the same quadrant from DURING and AFTER the pandemic.\n",
      "867 companies remained in the same quadrant throughout the pandemic.\n"
     ]
    }
   ],
   "source": [
    "analyze_stability(temp)"
   ]
  },
  {
   "cell_type": "code",
   "execution_count": 10,
   "metadata": {},
   "outputs": [
    {
     "name": "stdout",
     "output_type": "stream",
     "text": [
      "In quadrant 'Positive Stress', 48 companies remained stable from BEFORE and DURING the pandemic.\n",
      "In quadrant 'Positive Stress', 40 companies remained stable from DURING and AFTER the pandemic.\n",
      "In quadrant 'Positive Stress', 24 companies remained stable throughout the pandemic.\n",
      "\n",
      "In quadrant 'Negative Stress', 103 companies remained stable from BEFORE and DURING the pandemic.\n",
      "In quadrant 'Negative Stress', 106 companies remained stable from DURING and AFTER the pandemic.\n",
      "In quadrant 'Negative Stress', 58 companies remained stable throughout the pandemic.\n",
      "\n",
      "In quadrant 'Passive', 564 companies remained stable from BEFORE and DURING the pandemic.\n",
      "In quadrant 'Passive', 613 companies remained stable from DURING and AFTER the pandemic.\n",
      "In quadrant 'Passive', 453 companies remained stable throughout the pandemic.\n",
      "\n",
      "In quadrant 'Low Stress', 420 companies remained stable from BEFORE and DURING the pandemic.\n",
      "In quadrant 'Low Stress', 467 companies remained stable from DURING and AFTER the pandemic.\n",
      "In quadrant 'Low Stress', 332 companies remained stable throughout the pandemic.\n",
      "\n"
     ]
    }
   ],
   "source": [
    "analyze_stability_per_quadrant(temp)"
   ]
  },
  {
   "cell_type": "markdown",
   "metadata": {},
   "source": [
    "### 2. Transition Frequency"
   ]
  },
  {
   "cell_type": "code",
   "execution_count": 11,
   "metadata": {},
   "outputs": [],
   "source": [
    "def transition_frequency(df):\n",
    "    transitions_summary = {f'Q{i}': {'in': 0, 'out': 0} for i in range(1, 5)}\n",
    "    periods = [(\"quadrant_before\", \"quadrant_during\"), (\"quadrant_during\", \"quadrant_after\")]\n",
    "\n",
    "\n",
    "    print(f\"Transition frequencies between quadrants:\")\n",
    "\n",
    "    for period in periods:\n",
    "        start, end = period\n",
    "\n",
    "        for i in range(1, 5):\n",
    "            for j in range(1, 5):\n",
    "                if i == j: continue\n",
    "                \n",
    "                transition_label = \"'\" + quadrants[f\"Q{i}\"] + \"' to '\" + quadrants[f\"Q{j}\"] + \"'\"\n",
    "                transition_count = df[(df[start] == f\"Q{i}\") & (df[end] == f\"Q{j}\")].shape[0]\n",
    "                print(f\"{transition_label}: {transition_count} companies\")\n",
    "\n",
    "                # Update summary counts\n",
    "                transitions_summary[f'Q{i}']['out'] += transition_count\n",
    "                transitions_summary[f'Q{j}']['in'] += transition_count\n",
    "\n",
    "\n",
    "    print(f\"\\nTransition summary:\")\n",
    "    for quadrant, counts in transitions_summary.items():\n",
    "        print(f\"{quadrants[quadrant]} had {counts['out']} transitions out and {counts['in']} transitions in.\")"
   ]
  },
  {
   "cell_type": "code",
   "execution_count": 12,
   "metadata": {},
   "outputs": [
    {
     "name": "stdout",
     "output_type": "stream",
     "text": [
      "Transition frequencies between quadrants:\n",
      "'Positive Stress' to 'Negative Stress': 23 companies\n",
      "'Positive Stress' to 'Passive': 23 companies\n",
      "'Positive Stress' to 'Low Stress': 49 companies\n",
      "'Negative Stress' to 'Positive Stress': 20 companies\n",
      "'Negative Stress' to 'Passive': 119 companies\n",
      "'Negative Stress' to 'Low Stress': 43 companies\n",
      "'Passive' to 'Positive Stress': 12 companies\n",
      "'Passive' to 'Negative Stress': 83 companies\n",
      "'Passive' to 'Low Stress': 164 companies\n",
      "'Low Stress' to 'Positive Stress': 31 companies\n",
      "'Low Stress' to 'Negative Stress': 17 companies\n",
      "'Low Stress' to 'Passive': 92 companies\n",
      "'Positive Stress' to 'Negative Stress': 29 companies\n",
      "'Positive Stress' to 'Passive': 16 companies\n",
      "'Positive Stress' to 'Low Stress': 26 companies\n",
      "'Negative Stress' to 'Positive Stress': 15 companies\n",
      "'Negative Stress' to 'Passive': 92 companies\n",
      "'Negative Stress' to 'Low Stress': 13 companies\n",
      "'Passive' to 'Positive Stress': 13 companies\n",
      "'Passive' to 'Negative Stress': 77 companies\n",
      "'Passive' to 'Low Stress': 95 companies\n",
      "'Low Stress' to 'Positive Stress': 46 companies\n",
      "'Low Stress' to 'Negative Stress': 22 companies\n",
      "'Low Stress' to 'Passive': 141 companies\n",
      "\n",
      "Transition summary:\n",
      "Positive Stress had 166 transitions out and 137 transitions in.\n",
      "Negative Stress had 302 transitions out and 251 transitions in.\n",
      "Passive had 444 transitions out and 483 transitions in.\n",
      "Low Stress had 349 transitions out and 390 transitions in.\n"
     ]
    }
   ],
   "source": [
    "transition_frequency(temp)"
   ]
  },
  {
   "cell_type": "markdown",
   "metadata": {},
   "source": [
    "### 3. Reversion Analysis"
   ]
  },
  {
   "cell_type": "code",
   "execution_count": 13,
   "metadata": {},
   "outputs": [],
   "source": [
    "def reversion_analysis(df):\n",
    "    # Identify reversion cases\n",
    "    reversion_cases = df[(df[\"quadrant_before\"] != df[\"quadrant_during\"]) & (df[\"quadrant_before\"] == df[\"quadrant_after\"])]\n",
    "\n",
    "    # Count reversion cases per quadrant\n",
    "    reversion_counts = reversion_cases[\"quadrant_before\"].value_counts()\n",
    "\n",
    "    # Print results\n",
    "    total_reversion_cases = len(reversion_cases)\n",
    "    print(f\"{total_reversion_cases} companies reverted back to their original quadrant after transitioning during the pandemic.\\n\")\n",
    "\n",
    "    for label, count in reversion_counts.items():\n",
    "        print(f\"In quadrant '{quadrants[label]}', {count} companies reverted back to their original quadrant.\")"
   ]
  },
  {
   "cell_type": "code",
   "execution_count": 14,
   "metadata": {},
   "outputs": [
    {
     "name": "stdout",
     "output_type": "stream",
     "text": [
      "191 companies reverted back to their original quadrant after transitioning during the pandemic.\n",
      "\n",
      "In quadrant 'Passive', 102 companies reverted back to their original quadrant.\n",
      "In quadrant 'Negative Stress', 38 companies reverted back to their original quadrant.\n",
      "In quadrant 'Low Stress', 31 companies reverted back to their original quadrant.\n",
      "In quadrant 'Positive Stress', 20 companies reverted back to their original quadrant.\n"
     ]
    }
   ],
   "source": [
    "reversion_analysis(temp)"
   ]
  },
  {
   "cell_type": "markdown",
   "metadata": {},
   "source": [
    "### 4. Plots"
   ]
  },
  {
   "cell_type": "code",
   "execution_count": 15,
   "metadata": {},
   "outputs": [],
   "source": [
    "stress[\"quadrant_before\"] = stress[\"quadrant_before\"].replace(quadrants)\n",
    "stress[\"quadrant_during\"] = stress[\"quadrant_during\"].replace(quadrants)\n",
    "stress[\"quadrant_after\"] = stress[\"quadrant_after\"].replace(quadrants)"
   ]
  },
  {
   "cell_type": "code",
   "execution_count": 16,
   "metadata": {},
   "outputs": [],
   "source": [
    "def data_labels(labels, values, ax):\n",
    "    for label, value in zip(labels, values):\n",
    "        ax.text(\n",
    "            x=label, \n",
    "            y=value, \n",
    "            s=round(value, 3), \n",
    "            ha=\"center\",\n",
    "            va=\"bottom\"\n",
    "        )"
   ]
  },
  {
   "cell_type": "markdown",
   "metadata": {},
   "source": [
    "#### 4.1. Average Stress Levels"
   ]
  },
  {
   "cell_type": "code",
   "execution_count": 17,
   "metadata": {},
   "outputs": [
    {
     "data": {
      "image/png": "[encoded data removed]",
      "text/plain": [
       "<Figure size 640x480 with 1 Axes>"
      ]
     },
     "metadata": {},
     "output_type": "display_data"
    }
   ],
   "source": [
    "# Average stress score per cut-off point\n",
    "avg_stress = stress[[\"stress_before\", \"stress_during\", \"stress_after\"]].mean()\n",
    "\n",
    "# Plot the results\n",
    "labels = [\"Before\", \"During\", \"After\"]\n",
    "values = avg_stress.values\n",
    "colors = [\"#add8e6\", \"#f5deb3\", \"#b0a18f\"]\n",
    "\n",
    "fig, ax = plt.subplots(1, 1)\n",
    "\n",
    "plt.bar(labels, values, color=colors)\n",
    "plt.title(\"Average Stress Levels\")\n",
    "plt.xlabel(\"Stress Period\")\n",
    "plt.ylabel(\"Stress Level\")\n",
    "\n",
    "data_labels(labels, values, ax)\n",
    "plt.yticks([])\n",
    "\n",
    "plt.tight_layout()\n",
    "plt.show()"
   ]
  },
  {
   "cell_type": "markdown",
   "metadata": {},
   "source": [
    "#### 4.2. Distribution of Companies per Quadrant"
   ]
  },
  {
   "cell_type": "code",
   "execution_count": 18,
   "metadata": {},
   "outputs": [],
   "source": [
    "before_counts = stress[\"quadrant_before\"].value_counts()\n",
    "during_counts = stress[\"quadrant_during\"].value_counts()\n",
    "after_counts = stress[\"quadrant_after\"].value_counts()"
   ]
  },
  {
   "cell_type": "code",
   "execution_count": 19,
   "metadata": {},
   "outputs": [
    {
     "data": {
      "text/html": [
       "<div>\n",
       "<style scoped>\n",
       "    .dataframe tbody tr th:only-of-type {\n",
       "        vertical-align: middle;\n",
       "    }\n",
       "\n",
       "    .dataframe tbody tr th {\n",
       "        vertical-align: top;\n",
       "    }\n",
       "\n",
       "    .dataframe thead th {\n",
       "        text-align: right;\n",
       "    }\n",
       "</style>\n",
       "<table border=\"1\" class=\"dataframe\">\n",
       "  <thead>\n",
       "    <tr style=\"text-align: right;\">\n",
       "      <th></th>\n",
       "      <th>before</th>\n",
       "      <th>during</th>\n",
       "      <th>after</th>\n",
       "    </tr>\n",
       "  </thead>\n",
       "  <tbody>\n",
       "    <tr>\n",
       "      <th>Passive</th>\n",
       "      <td>2061</td>\n",
       "      <td>1178</td>\n",
       "      <td>1538</td>\n",
       "    </tr>\n",
       "    <tr>\n",
       "      <th>Low Stress</th>\n",
       "      <td>1339</td>\n",
       "      <td>1038</td>\n",
       "      <td>1273</td>\n",
       "    </tr>\n",
       "    <tr>\n",
       "      <th>Negative Stress</th>\n",
       "      <td>1191</td>\n",
       "      <td>707</td>\n",
       "      <td>927</td>\n",
       "    </tr>\n",
       "    <tr>\n",
       "      <th>Positive Stress</th>\n",
       "      <td>657</td>\n",
       "      <td>436</td>\n",
       "      <td>524</td>\n",
       "    </tr>\n",
       "  </tbody>\n",
       "</table>\n",
       "</div>"
      ],
      "text/plain": [
       "                 before  during  after\n",
       "Passive            2061    1178   1538\n",
       "Low Stress         1339    1038   1273\n",
       "Negative Stress    1191     707    927\n",
       "Positive Stress     657     436    524"
      ]
     },
     "execution_count": 19,
     "metadata": {},
     "output_type": "execute_result"
    }
   ],
   "source": [
    "df_counts = pd.DataFrame({\n",
    "    \"before\": before_counts,\n",
    "    \"during\": during_counts,\n",
    "    \"after\": after_counts\n",
    "})\n",
    "\n",
    "df_counts.head()"
   ]
  },
  {
   "cell_type": "code",
   "execution_count": 20,
   "metadata": {},
   "outputs": [
    {
     "data": {
      "image/png": "[encoded data removed]",
      "text/plain": [
       "<Figure size 1800x600 with 3 Axes>"
      ]
     },
     "metadata": {},
     "output_type": "display_data"
    }
   ],
   "source": [
    "# Define colors for each quadrant.\n",
    "colors = [\"#b3a391\", \"#7e9abf\", \"#8fa67b\", \"#bf8e9a\"]\n",
    "\n",
    "# Define titles for each time period.\n",
    "titles = [\n",
    "    \"Quadrant Distribution Before COVID-19\", \n",
    "    \"Quadrant Distribution During COVID-19\", \n",
    "    \"Quadrant Distribution After COVID-19\"\n",
    "]\n",
    "\n",
    "# Define the timeframes corresponding to the titles.\n",
    "timeframes = [\"before\", \"during\", \"after\"]\n",
    "\n",
    "# Create a single figure with three subplots side by side.\n",
    "fig, axs = plt.subplots(1, 3, figsize=(18, 6))\n",
    "\n",
    "# Iterate over each timeframe to populate the subplots.\n",
    "for i, timeframe in enumerate(timeframes):\n",
    "    # Get quadrant labels and their respective values for the current timeframe.\n",
    "    labels = df_counts.index\n",
    "    values = df_counts[timeframe]\n",
    "    \n",
    "    # Plot the data for the current timeframe using specified colors.\n",
    "    axs[i].bar(labels, values, color=colors)\n",
    "    \n",
    "    # Set the title, x-axis label, and y-axis label for the current subplot.\n",
    "    axs[i].set_title(titles[i])\n",
    "    axs[i].set_xlabel(\"Quadrants\")\n",
    "    axs[i].set_ylabel(\"Counts\")\n",
    "    \n",
    "    # Add data labels to each bar in the current subplot.\n",
    "    data_labels(labels, values, axs[i])\n",
    "    \n",
    "    # Hide the y-axis ticks for a cleaner look.\n",
    "    axs[i].set_yticks([])\n",
    "\n",
    "# Ensure there's no overlap between subplots and everything fits well.\n",
    "plt.tight_layout()\n",
    "plt.show()"
   ]
  },
  {
   "cell_type": "markdown",
   "metadata": {},
   "source": [
    "#### 4.3."
   ]
  },
  {
   "cell_type": "code",
   "execution_count": 21,
   "metadata": {},
   "outputs": [],
   "source": [
    "def safe_convert(date_str):\n",
    "    try:\n",
    "        return pd.to_datetime(date_str)\n",
    "    except:\n",
    "        return pd.NaT\n",
    "\n",
    "companies[\"founded_on\"] = companies[\"founded_on\"].apply(safe_convert)"
   ]
  },
  {
   "cell_type": "code",
   "execution_count": 22,
   "metadata": {},
   "outputs": [],
   "source": [
    "# Determine if company is a startup\n",
    "current_year = pd.Timestamp.now().year\n",
    "companies[\"is_startup\"] = companies[\"founded_on\"].dt.year > (current_year - 10)"
   ]
  },
  {
   "cell_type": "code",
   "execution_count": 23,
   "metadata": {},
   "outputs": [
    {
     "data": {
      "text/plain": [
       "False    6606\n",
       "True      403\n",
       "Name: is_startup, dtype: int64"
      ]
     },
     "execution_count": 23,
     "metadata": {},
     "output_type": "execute_result"
    }
   ],
   "source": [
    "companies[\"is_startup\"].value_counts()"
   ]
  },
  {
   "cell_type": "code",
   "execution_count": 24,
   "metadata": {},
   "outputs": [
    {
     "data": {
      "text/plain": [
       "Index(['company_name', 'company_id', 'average_rating_before', 'zrating_before',\n",
       "       'stress_before', 'zstress_before', 'association_before',\n",
       "       'quadrant_before', 'average_rating_during', 'zrating_during',\n",
       "       'stress_during', 'zstress_during', 'association_during',\n",
       "       'quadrant_during', 'average_rating_after', 'zrating_after',\n",
       "       'stress_after', 'zstress_after', 'association_after', 'quadrant_after'],\n",
       "      dtype='object')"
      ]
     },
     "execution_count": 24,
     "metadata": {},
     "output_type": "execute_result"
    }
   ],
   "source": [
    "stress.columns"
   ]
  },
  {
   "cell_type": "code",
   "execution_count": 25,
   "metadata": {},
   "outputs": [],
   "source": [
    "merged = stress.merge(right=companies[[\"id\", \"is_startup\"]], left_on=\"company_id\", right_on=\"id\")"
   ]
  },
  {
   "cell_type": "code",
   "execution_count": 26,
   "metadata": {},
   "outputs": [
    {
     "data": {
      "text/plain": [
       "False    4964\n",
       "True      286\n",
       "Name: is_startup, dtype: int64"
      ]
     },
     "execution_count": 26,
     "metadata": {},
     "output_type": "execute_result"
    }
   ],
   "source": [
    "merged[\"is_startup\"].value_counts()"
   ]
  },
  {
   "cell_type": "code",
   "execution_count": 27,
   "metadata": {},
   "outputs": [
    {
     "data": {
      "text/html": [
       "<div>\n",
       "<style scoped>\n",
       "    .dataframe tbody tr th:only-of-type {\n",
       "        vertical-align: middle;\n",
       "    }\n",
       "\n",
       "    .dataframe tbody tr th {\n",
       "        vertical-align: top;\n",
       "    }\n",
       "\n",
       "    .dataframe thead th {\n",
       "        text-align: right;\n",
       "    }\n",
       "</style>\n",
       "<table border=\"1\" class=\"dataframe\">\n",
       "  <thead>\n",
       "    <tr style=\"text-align: right;\">\n",
       "      <th></th>\n",
       "      <th>stress_before</th>\n",
       "      <th>stress_during</th>\n",
       "      <th>stress_after</th>\n",
       "    </tr>\n",
       "    <tr>\n",
       "      <th>is_startup</th>\n",
       "      <th></th>\n",
       "      <th></th>\n",
       "      <th></th>\n",
       "    </tr>\n",
       "  </thead>\n",
       "  <tbody>\n",
       "    <tr>\n",
       "      <th>False</th>\n",
       "      <td>0.010451</td>\n",
       "      <td>0.013682</td>\n",
       "      <td>0.011087</td>\n",
       "    </tr>\n",
       "    <tr>\n",
       "      <th>True</th>\n",
       "      <td>0.015405</td>\n",
       "      <td>0.020254</td>\n",
       "      <td>0.013305</td>\n",
       "    </tr>\n",
       "  </tbody>\n",
       "</table>\n",
       "</div>"
      ],
      "text/plain": [
       "            stress_before  stress_during  stress_after\n",
       "is_startup                                            \n",
       "False            0.010451       0.013682      0.011087\n",
       "True             0.015405       0.020254      0.013305"
      ]
     },
     "execution_count": 27,
     "metadata": {},
     "output_type": "execute_result"
    }
   ],
   "source": [
    "# Assuming you have a DataFrame called 'merged'\n",
    "# Calculate average stress for startups and non-startups\n",
    "avg_stress = merged.groupby(\"is_startup\")[[\"stress_before\", \"stress_during\", \"stress_after\"]].mean()\n",
    "avg_stress.head()"
   ]
  },
  {
   "cell_type": "code",
   "execution_count": 28,
   "metadata": {},
   "outputs": [
    {
     "data": {
      "image/png": "[encoded data removed]",
      "text/plain": [
       "<Figure size 1000x600 with 1 Axes>"
      ]
     },
     "metadata": {},
     "output_type": "display_data"
    }
   ],
   "source": [
    "# Plotting\n",
    "ax = avg_stress.T.plot(kind='bar', figsize=(10, 6))\n",
    "plt.title(\"Average Stress Levels Before, During, and After COVID\")\n",
    "plt.ylabel(\"Average Stress Level\")\n",
    "plt.xlabel(\"Period\")\n",
    "plt.yticks([])\n",
    "plt.xticks(rotation=45)\n",
    "plt.legend(title=\"Is Startup\", labels=['Non-Startup', 'Startup'])\n",
    "plt.tight_layout()\n",
    "\n",
    "# Adding data labels\n",
    "for p in ax.patches:\n",
    "    ax.annotate(format(p.get_height(), '.4f'), \n",
    "                (p.get_x() + p.get_width() / 2., p.get_height()), \n",
    "                ha = 'center', va = 'center', \n",
    "                xytext = (0, 9), \n",
    "                textcoords = 'offset points')\n",
    "\n",
    "plt.show()"
   ]
  },
  {
   "cell_type": "code",
   "execution_count": 35,
   "metadata": {},
   "outputs": [],
   "source": [
    "start_up = merged[merged[\"is_startup\"] == True][[\"stress_before\", \"stress_during\"]].dropna()\n",
    "start_up[\"diff\"] = start_up[\"stress_before\"] - start_up[\"stress_during\"]"
   ]
  },
  {
   "cell_type": "code",
   "execution_count": 36,
   "metadata": {},
   "outputs": [
    {
     "data": {
      "text/plain": [
       "(68, 3)"
      ]
     },
     "execution_count": 36,
     "metadata": {},
     "output_type": "execute_result"
    }
   ],
   "source": [
    "start_up.shape"
   ]
  },
  {
   "cell_type": "code",
   "execution_count": 37,
   "metadata": {},
   "outputs": [],
   "source": [
    "no_start_up = merged[merged[\"is_startup\"] == False][[\"stress_before\", \"stress_during\"]].dropna()\n",
    "no_start_up[\"diff\"] = no_start_up[\"stress_before\"] - no_start_up[\"stress_during\"]"
   ]
  },
  {
   "cell_type": "code",
   "execution_count": 38,
   "metadata": {},
   "outputs": [
    {
     "data": {
      "text/plain": [
       "(1826, 3)"
      ]
     },
     "execution_count": 38,
     "metadata": {},
     "output_type": "execute_result"
    }
   ],
   "source": [
    "no_start_up.shape"
   ]
  },
  {
   "cell_type": "code",
   "execution_count": 33,
   "metadata": {},
   "outputs": [],
   "source": [
    "from scipy import stats"
   ]
  },
  {
   "cell_type": "code",
   "execution_count": 34,
   "metadata": {},
   "outputs": [
    {
     "name": "stdout",
     "output_type": "stream",
     "text": [
      "t-statistic: 0.25\n",
      "p-value: 0.80169\n",
      "Fail to reject the null hypothesis: there is no significant difference between the two groups.\n"
     ]
    }
   ],
   "source": [
    "# Assuming start_up and no_start_up are your dataframes and \"diff\" is the column with the stress level differences\n",
    "t_stat, p_value = stats.ttest_ind(start_up[\"diff\"], no_start_up[\"diff\"], equal_var=False)\n",
    "\n",
    "# Print results\n",
    "print(f't-statistic: {t_stat:.2f}')\n",
    "print(f'p-value: {p_value:.5f}')\n",
    "\n",
    "# Decide whether to reject the null hypothesis\n",
    "alpha = 0.05  # commonly used significance level\n",
    "decision = 'Reject' if p_value < alpha else 'Fail to reject'\n",
    "print(f'{decision} the null hypothesis: there {\"is\" if p_value < alpha else \"is no\"} significant difference between the two groups.')"
   ]
  },
  {
   "cell_type": "code",
   "execution_count": null,
   "metadata": {},
   "outputs": [],
   "source": []
  },
  {
   "cell_type": "code",
   "execution_count": 41,
   "metadata": {},
   "outputs": [
    {
     "data": {
      "text/plain": [
       "Index(['company_name', 'company_id', 'average_rating_before', 'zrating_before',\n",
       "       'stress_before', 'zstress_before', 'association_before',\n",
       "       'quadrant_before', 'average_rating_during', 'zrating_during',\n",
       "       'stress_during', 'zstress_during', 'association_during',\n",
       "       'quadrant_during', 'average_rating_after', 'zrating_after',\n",
       "       'stress_after', 'zstress_after', 'association_after', 'quadrant_after',\n",
       "       'id', 'is_startup'],\n",
       "      dtype='object')"
      ]
     },
     "execution_count": 41,
     "metadata": {},
     "output_type": "execute_result"
    }
   ],
   "source": [
    "merged.columns"
   ]
  },
  {
   "cell_type": "code",
   "execution_count": 42,
   "metadata": {},
   "outputs": [
    {
     "data": {
      "text/plain": [
       "Index(['id', 'revenue', 'type_x', 'yearFounded', 'industryName', 'rank',\n",
       "       'roles', 'country_code', 'status', 'num_funding_rounds',\n",
       "       'total_funding_usd', 'total_funding', 'total_funding_currency_code',\n",
       "       'founded_on', 'last_funding_on', 'employee_count', 'primary_role',\n",
       "       'is_startup'],\n",
       "      dtype='object')"
      ]
     },
     "execution_count": 42,
     "metadata": {},
     "output_type": "execute_result"
    }
   ],
   "source": [
    "companies.columns"
   ]
  },
  {
   "cell_type": "code",
   "execution_count": 43,
   "metadata": {},
   "outputs": [
    {
     "data": {
      "text/html": [
       "<div>\n",
       "<style scoped>\n",
       "    .dataframe tbody tr th:only-of-type {\n",
       "        vertical-align: middle;\n",
       "    }\n",
       "\n",
       "    .dataframe tbody tr th {\n",
       "        vertical-align: top;\n",
       "    }\n",
       "\n",
       "    .dataframe thead th {\n",
       "        text-align: right;\n",
       "    }\n",
       "</style>\n",
       "<table border=\"1\" class=\"dataframe\">\n",
       "  <thead>\n",
       "    <tr style=\"text-align: right;\">\n",
       "      <th></th>\n",
       "      <th>0</th>\n",
       "      <th>1</th>\n",
       "      <th>2</th>\n",
       "      <th>3</th>\n",
       "      <th>4</th>\n",
       "    </tr>\n",
       "  </thead>\n",
       "  <tbody>\n",
       "    <tr>\n",
       "      <th>id</th>\n",
       "      <td>6036</td>\n",
       "      <td>2763</td>\n",
       "      <td>194</td>\n",
       "      <td>432</td>\n",
       "      <td>4138</td>\n",
       "    </tr>\n",
       "    <tr>\n",
       "      <th>revenue</th>\n",
       "      <td>$10+ billion (USD)</td>\n",
       "      <td>$10+ billion (USD)</td>\n",
       "      <td>$10+ billion (USD)</td>\n",
       "      <td>$10+ billion (USD)</td>\n",
       "      <td>$10+ billion (USD)</td>\n",
       "    </tr>\n",
       "    <tr>\n",
       "      <th>type_x</th>\n",
       "      <td>Company - Public</td>\n",
       "      <td>Company - Private</td>\n",
       "      <td>Company - Public</td>\n",
       "      <td>Company - Public</td>\n",
       "      <td>Company - Public</td>\n",
       "    </tr>\n",
       "    <tr>\n",
       "      <th>yearFounded</th>\n",
       "      <td>1994.0</td>\n",
       "      <td>1850.0</td>\n",
       "      <td>1962.0</td>\n",
       "      <td>1955.0</td>\n",
       "      <td>1989.0</td>\n",
       "    </tr>\n",
       "    <tr>\n",
       "      <th>industryName</th>\n",
       "      <td>Internet &amp; Web Services</td>\n",
       "      <td>Accounting &amp; Tax</td>\n",
       "      <td>General Merchandise &amp; Superstores</td>\n",
       "      <td>Restaurants &amp; Cafes</td>\n",
       "      <td>Business Consulting</td>\n",
       "    </tr>\n",
       "    <tr>\n",
       "      <th>rank</th>\n",
       "      <td>18.0</td>\n",
       "      <td>7338.0</td>\n",
       "      <td>9578.0</td>\n",
       "      <td>81595.0</td>\n",
       "      <td>456.0</td>\n",
       "    </tr>\n",
       "    <tr>\n",
       "      <th>roles</th>\n",
       "      <td>investor,company</td>\n",
       "      <td>investor,company</td>\n",
       "      <td>investor,company</td>\n",
       "      <td>investor,company</td>\n",
       "      <td>investor,company</td>\n",
       "    </tr>\n",
       "    <tr>\n",
       "      <th>country_code</th>\n",
       "      <td>USA</td>\n",
       "      <td>GBR</td>\n",
       "      <td>USA</td>\n",
       "      <td>USA</td>\n",
       "      <td>IRL</td>\n",
       "    </tr>\n",
       "    <tr>\n",
       "      <th>status</th>\n",
       "      <td>ipo</td>\n",
       "      <td>operating</td>\n",
       "      <td>ipo</td>\n",
       "      <td>ipo</td>\n",
       "      <td>ipo</td>\n",
       "    </tr>\n",
       "    <tr>\n",
       "      <th>num_funding_rounds</th>\n",
       "      <td>3.0</td>\n",
       "      <td>NaN</td>\n",
       "      <td>1.0</td>\n",
       "      <td>NaN</td>\n",
       "      <td>1.0</td>\n",
       "    </tr>\n",
       "    <tr>\n",
       "      <th>total_funding_usd</th>\n",
       "      <td>8108000000.0</td>\n",
       "      <td>NaN</td>\n",
       "      <td>0.0</td>\n",
       "      <td>NaN</td>\n",
       "      <td>6000000.0</td>\n",
       "    </tr>\n",
       "    <tr>\n",
       "      <th>total_funding</th>\n",
       "      <td>8108000000.0</td>\n",
       "      <td>NaN</td>\n",
       "      <td>0.0</td>\n",
       "      <td>NaN</td>\n",
       "      <td>6000000.0</td>\n",
       "    </tr>\n",
       "    <tr>\n",
       "      <th>total_funding_currency_code</th>\n",
       "      <td>USD</td>\n",
       "      <td>NaN</td>\n",
       "      <td>USD</td>\n",
       "      <td>NaN</td>\n",
       "      <td>USD</td>\n",
       "    </tr>\n",
       "    <tr>\n",
       "      <th>founded_on</th>\n",
       "      <td>1994-07-05 00:00:00</td>\n",
       "      <td>1845-01-01 00:00:00</td>\n",
       "      <td>1962-01-01 00:00:00</td>\n",
       "      <td>1955-04-15 00:00:00</td>\n",
       "      <td>1989-01-01 00:00:00</td>\n",
       "    </tr>\n",
       "    <tr>\n",
       "      <th>last_funding_on</th>\n",
       "      <td>1/3/2023</td>\n",
       "      <td>NaN</td>\n",
       "      <td>12/1/2007</td>\n",
       "      <td>NaN</td>\n",
       "      <td>10/1/2018</td>\n",
       "    </tr>\n",
       "    <tr>\n",
       "      <th>employee_count</th>\n",
       "      <td>10000+</td>\n",
       "      <td>10000+</td>\n",
       "      <td>10000+</td>\n",
       "      <td>10000+</td>\n",
       "      <td>10000+</td>\n",
       "    </tr>\n",
       "    <tr>\n",
       "      <th>primary_role</th>\n",
       "      <td>company</td>\n",
       "      <td>company</td>\n",
       "      <td>company</td>\n",
       "      <td>company</td>\n",
       "      <td>company</td>\n",
       "    </tr>\n",
       "    <tr>\n",
       "      <th>is_startup</th>\n",
       "      <td>False</td>\n",
       "      <td>False</td>\n",
       "      <td>False</td>\n",
       "      <td>False</td>\n",
       "      <td>False</td>\n",
       "    </tr>\n",
       "  </tbody>\n",
       "</table>\n",
       "</div>"
      ],
      "text/plain": [
       "                                                   0                    1  \\\n",
       "id                                              6036                 2763   \n",
       "revenue                           $10+ billion (USD)   $10+ billion (USD)   \n",
       "type_x                              Company - Public    Company - Private   \n",
       "yearFounded                                   1994.0               1850.0   \n",
       "industryName                 Internet & Web Services     Accounting & Tax   \n",
       "rank                                            18.0               7338.0   \n",
       "roles                               investor,company     investor,company   \n",
       "country_code                                     USA                  GBR   \n",
       "status                                           ipo            operating   \n",
       "num_funding_rounds                               3.0                  NaN   \n",
       "total_funding_usd                       8108000000.0                  NaN   \n",
       "total_funding                           8108000000.0                  NaN   \n",
       "total_funding_currency_code                      USD                  NaN   \n",
       "founded_on                       1994-07-05 00:00:00  1845-01-01 00:00:00   \n",
       "last_funding_on                             1/3/2023                  NaN   \n",
       "employee_count                                10000+               10000+   \n",
       "primary_role                                 company              company   \n",
       "is_startup                                     False                False   \n",
       "\n",
       "                                                             2  \\\n",
       "id                                                         194   \n",
       "revenue                                     $10+ billion (USD)   \n",
       "type_x                                        Company - Public   \n",
       "yearFounded                                             1962.0   \n",
       "industryName                 General Merchandise & Superstores   \n",
       "rank                                                    9578.0   \n",
       "roles                                         investor,company   \n",
       "country_code                                               USA   \n",
       "status                                                     ipo   \n",
       "num_funding_rounds                                         1.0   \n",
       "total_funding_usd                                          0.0   \n",
       "total_funding                                              0.0   \n",
       "total_funding_currency_code                                USD   \n",
       "founded_on                                 1962-01-01 00:00:00   \n",
       "last_funding_on                                      12/1/2007   \n",
       "employee_count                                          10000+   \n",
       "primary_role                                           company   \n",
       "is_startup                                               False   \n",
       "\n",
       "                                               3                    4  \n",
       "id                                           432                 4138  \n",
       "revenue                       $10+ billion (USD)   $10+ billion (USD)  \n",
       "type_x                          Company - Public     Company - Public  \n",
       "yearFounded                               1955.0               1989.0  \n",
       "industryName                 Restaurants & Cafes  Business Consulting  \n",
       "rank                                     81595.0                456.0  \n",
       "roles                           investor,company     investor,company  \n",
       "country_code                                 USA                  IRL  \n",
       "status                                       ipo                  ipo  \n",
       "num_funding_rounds                           NaN                  1.0  \n",
       "total_funding_usd                            NaN            6000000.0  \n",
       "total_funding                                NaN            6000000.0  \n",
       "total_funding_currency_code                  NaN                  USD  \n",
       "founded_on                   1955-04-15 00:00:00  1989-01-01 00:00:00  \n",
       "last_funding_on                              NaN            10/1/2018  \n",
       "employee_count                            10000+               10000+  \n",
       "primary_role                             company              company  \n",
       "is_startup                                 False                False  "
      ]
     },
     "execution_count": 43,
     "metadata": {},
     "output_type": "execute_result"
    }
   ],
   "source": [
    "companies.head().T"
   ]
  },
  {
   "cell_type": "code",
   "execution_count": 44,
   "metadata": {},
   "outputs": [
    {
     "data": {
      "text/plain": [
       "Unknown / Non-Applicable            1975\n",
       "$100 to $500 million (USD)          1395\n",
       "$1 to $5 billion (USD)              1101\n",
       "$25 to $100 million (USD)            647\n",
       "$500 million to $1 billion (USD)     600\n",
       "$10+ billion (USD)                   559\n",
       "$5 to $10 billion (USD)              324\n",
       "$5 to $25 million (USD)              234\n",
       "$1 to $5 million (USD)                95\n",
       "Less than $1 million (USD)            65\n",
       "Name: revenue, dtype: int64"
      ]
     },
     "execution_count": 44,
     "metadata": {},
     "output_type": "execute_result"
    }
   ],
   "source": [
    "companies[\"revenue\"].value_counts()"
   ]
  },
  {
   "cell_type": "code",
   "execution_count": 45,
   "metadata": {},
   "outputs": [
    {
     "data": {
      "text/plain": [
       "18.0        1\n",
       "3948.0      1\n",
       "238083.0    1\n",
       "488690.0    1\n",
       "252543.0    1\n",
       "           ..\n",
       "235190.0    1\n",
       "49535.0     1\n",
       "13071.0     1\n",
       "6394.0      1\n",
       "205678.0    1\n",
       "Name: rank, Length: 7008, dtype: int64"
      ]
     },
     "execution_count": 45,
     "metadata": {},
     "output_type": "execute_result"
    }
   ],
   "source": [
    "companies[\"rank\"]"
   ]
  },
  {
   "cell_type": "code",
   "execution_count": 47,
   "metadata": {},
   "outputs": [
    {
     "data": {
      "text/plain": [
       "(5250, 38)"
      ]
     },
     "execution_count": 47,
     "metadata": {},
     "output_type": "execute_result"
    }
   ],
   "source": [
    "merged_df = stress.merge(right=companies, left_on=\"company_id\", right_on=\"id\")\n",
    "merged_df.shape"
   ]
  },
  {
   "cell_type": "code",
   "execution_count": 48,
   "metadata": {},
   "outputs": [
    {
     "data": {
      "text/plain": [
       "(7057, 20)"
      ]
     },
     "execution_count": 48,
     "metadata": {},
     "output_type": "execute_result"
    }
   ],
   "source": [
    "stress.shape"
   ]
  },
  {
   "cell_type": "code",
   "execution_count": 49,
   "metadata": {},
   "outputs": [
    {
     "data": {
      "text/plain": [
       "(7009, 18)"
      ]
     },
     "execution_count": 49,
     "metadata": {},
     "output_type": "execute_result"
    }
   ],
   "source": [
    "companies.shape"
   ]
  },
  {
   "cell_type": "markdown",
   "metadata": {},
   "source": [
    "### Rank"
   ]
  },
  {
   "cell_type": "code",
   "execution_count": null,
   "metadata": {},
   "outputs": [],
   "source": [
    "merged"
   ]
  }
 ],
 "metadata": {
  "kernelspec": {
   "display_name": "research_project",
   "language": "python",
   "name": "python3"
  },
  "language_info": {
   "codemirror_mode": {
    "name": "ipython",
    "version": 3
   },
   "file_extension": ".py",
   "mimetype": "text/x-python",
   "name": "python",
   "nbconvert_exporter": "python",
   "pygments_lexer": "ipython3",
   "version": "3.11.4"
  },
  "orig_nbformat": 4
 },
 "nbformat": 4,
 "nbformat_minor": 2
}
